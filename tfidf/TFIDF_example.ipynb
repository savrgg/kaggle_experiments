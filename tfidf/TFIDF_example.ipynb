{
 "cells": [
  {
   "cell_type": "code",
   "execution_count": 37,
   "metadata": {},
   "outputs": [
    {
     "name": "stderr",
     "output_type": "stream",
     "text": [
      "/var/folders/3h/_bqz7hy16t5_s_lfs8ysdmk40000gn/T/ipykernel_6799/2165334903.py:10: UserWarning: \n",
      "The dash_html_components package is deprecated. Please replace\n",
      "`import dash_html_components as html` with `from dash import html`\n",
      "  import dash_html_components as html\n",
      "/var/folders/3h/_bqz7hy16t5_s_lfs8ysdmk40000gn/T/ipykernel_6799/2165334903.py:11: UserWarning: \n",
      "The dash_core_components package is deprecated. Please replace\n",
      "`import dash_core_components as dcc` with `from dash import dcc`\n",
      "  import dash_core_components as dcc\n"
     ]
    }
   ],
   "source": [
    "import requests\n",
    "from nltk.tokenize import word_tokenize\n",
    "from nltk.corpus import stopwords\n",
    "from nltk.stem import WordNetLemmatizer\n",
    "from sklearn.feature_extraction.text import TfidfVectorizer\n",
    "from sklearn.metrics.pairwise import cosine_similarity\n",
    "import plotly.graph_objects as go\n",
    "import dash\n",
    "import dash_html_components as html\n",
    "import dash_core_components as dcc\n",
    "\n",
    "\n",
    "# Load the API key from the config.json file\n",
    "with open('config.json') as f:\n",
    "    config = json.load(f)\n",
    "\n",
    "api_key = config['API_KEY']\n",
    "topic = \"technology\"\n",
    "num_articles = 10\n",
    "url = f\"https://newsapi.org/v2/top-headlines\"\n",
    "params = {\n",
    "    \"apiKey\": api_key,\n",
    "    \"q\": topic,\n",
    "    \"pageSize\": num_articles\n",
    "}\n",
    "\n",
    "# Send GET request to NewsAPI\n",
    "response = requests.get(url, params=params)\n",
    "data = response.json()\n",
    "# Send GET request to NewsAPI\n",
    "response = requests.get(url, params=params)\n",
    "data = response.json()\n",
    "# Extract article titles and descriptions\n",
    "articles = []\n",
    "for article in data[\"articles\"]:\n",
    "    title = article[\"title\"]\n",
    "    description = article[\"description\"]\n",
    "    if title and description:\n",
    "        articles.append(title + \" \" + description)\n",
    "\n",
    "# Data preprocessing\n",
    "stop_words = set(stopwords.words(\"english\"))\n",
    "lemmatizer = WordNetLemmatizer()\n",
    "preprocessed_articles = []\n",
    "\n",
    "for article in articles:\n",
    "    # Tokenize the article into words\n",
    "    words = word_tokenize(article.lower())\n",
    "    \n",
    "    # Remove stopwords and lemmatize the words\n",
    "    filtered_words = [lemmatizer.lemmatize(word) for word in words if word.isalnum() and word not in stop_words]\n",
    "    \n",
    "    # Join the filtered words back into a sentence\n",
    "    preprocessed_article = \" \".join(filtered_words)\n",
    "    preprocessed_articles.append(preprocessed_article)\n",
    "\n",
    "# TF-IDF calculation\n",
    "vectorizer = TfidfVectorizer()\n",
    "tfidf_matrix = vectorizer.fit_transform(preprocessed_articles)\n",
    "feature_names = vectorizer.get_feature_names_out()\n",
    "# Print TF-IDF scores for each term in the first article\n",
    "first_article_tfidf = tfidf_matrix[0]\n",
    "for col_idx in first_article_tfidf.indices:\n",
    "    term = feature_names[col_idx]\n",
    "    tfidf_score = first_article_tfidf[0, col_idx]\n",
    "    print(f\"Term: {term}, TF-IDF Score: {tfidf_score}\")\n",
    "\n",
    "\n",
    "# User input\n",
    "user_input = \"Technology\"\n",
    "user_keywords = word_tokenize(user_input.lower())\n",
    "user_keywords = [lemmatizer.lemmatize(word) for word in user_keywords if word.isalnum() and word not in stop_words]\n",
    "user_tfidf = vectorizer.transform([\" \".join(user_keywords)])\n",
    "\n",
    "# Recommendation algorithm\n",
    "similarity_scores = cosine_similarity(user_tfidf, tfidf_matrix).flatten()\n",
    "\n",
    "# Top Article Recommendations\n",
    "top_indices = similarity_scores.argsort()[::-1][:5]  # Get indices of top 5 similar articles\n",
    "top_articles = [articles[idx] for idx in top_indices]\n",
    "\n",
    "# Print the top article recommendations\n",
    "print(\"Top Article Recommendations:\")\n",
    "for i, article in enumerate(top_articles):\n",
    "    print(f\"{i+1}. {article}\")\n",
    "\n",
    "\n",
    "# Create a bar plot for the similarity scores\n",
    "bar_plot = go.Bar(\n",
    "    x=list(range(len(similarity_scores))),  # Convert range to list\n",
    "    y=similarity_scores,\n",
    "    marker=dict(color=\"rgb(158,202,225)\")\n",
    ")\n",
    "\n",
    "# Set the layout for the bar plot\n",
    "layout = go.Layout(\n",
    "    title=\"Similarity Scores of Articles\",\n",
    "    xaxis=dict(title=\"Article Index\"),\n",
    "    yaxis=dict(title=\"Similarity Score\"),\n",
    "    showlegend=False\n",
    ")\n",
    "\n",
    "# Create the dashboard app\n",
    "app = dash.Dash(__name__)\n",
    "\n",
    "# Set the layout for the dashboard\n",
    "app.layout = html.Div([\n",
    "    html.H1(\"Article Recommendation Dashboard\"),\n",
    "    html.H2(\"Top Article Recommendations:\"),\n",
    "    html.Ul([html.Li(article) for article in top_articles]),\n",
    "    dcc.Graph(figure=go.Figure(data=[bar_plot], layout=layout))\n",
    "])\n",
    "\n",
    "# Run the dashboard app\n",
    "if __name__ == '__main__':\n",
    "    app.run_server(debug=True)\n",
    "\n"
   ]
  },
  {
   "cell_type": "code",
   "execution_count": 7,
   "metadata": {},
   "outputs": [
    {
     "data": {
      "text/plain": [
       "{'status': 'ok',\n",
       " 'totalResults': 2,\n",
       " 'articles': [{'source': {'id': 'the-verge', 'name': 'The Verge'},\n",
       "   'author': None,\n",
       "   'title': 'The Verge',\n",
       "   'description': 'The Verge is about technology and how it makes us feel. Founded in 2011, we offer our audience everything from breaking news to reviews to award-winning features and investigations, on our site, in video, and in podcasts.',\n",
       "   'url': 'http://www.theverge.com/',\n",
       "   'urlToImage': 'https://cdn.vox-cdn.com/uploads/chorus_asset/file/23966628/the_verge_social_share.png',\n",
       "   'publishedAt': '2023-06-26T01:52:17.4158176Z',\n",
       "   'content': 'Elon Musk thinks his fight with Mark Zuckerberg might actually happen.\\r\\nIn a Twitter Spaces session with Bloomberg reporter Ashlee Vance, at the 6:20 mark of the recording, Musk, who was at a friends… [+696 chars]'},\n",
       "  {'source': {'id': 'newsweek', 'name': 'Newsweek'},\n",
       "   'author': 'Mark Davis',\n",
       "   'title': 'Newsweek',\n",
       "   'description': 'Newsweek provides in-depth analysis, news and opinion about international issues, technology, business, culture and politics.',\n",
       "   'url': 'https://www.newsweek.com/',\n",
       "   'urlToImage': 'https://d.newsweek.com/en/full/2202468/special-presidential-envoy-climate-john-kerry.jpg',\n",
       "   'publishedAt': '2023-03-01T12:07:28.8517009Z',\n",
       "   'content': None}]}"
      ]
     },
     "execution_count": 7,
     "metadata": {},
     "output_type": "execute_result"
    }
   ],
   "source": []
  },
  {
   "cell_type": "code",
   "execution_count": 30,
   "metadata": {},
   "outputs": [
    {
     "name": "stdout",
     "output_type": "stream",
     "text": [
      "Term: podcasts, TF-IDF Score: 0.22934037812132071\n",
      "Term: video, TF-IDF Score: 0.22934037812132071\n",
      "Term: site, TF-IDF Score: 0.22934037812132071\n",
      "Term: investigation, TF-IDF Score: 0.22934037812132071\n",
      "Term: feature, TF-IDF Score: 0.22934037812132071\n",
      "Term: review, TF-IDF Score: 0.22934037812132071\n",
      "Term: news, TF-IDF Score: 0.1631775679084811\n",
      "Term: breaking, TF-IDF Score: 0.22934037812132071\n",
      "Term: everything, TF-IDF Score: 0.22934037812132071\n",
      "Term: audience, TF-IDF Score: 0.22934037812132071\n",
      "Term: offer, TF-IDF Score: 0.22934037812132071\n",
      "Term: 2011, TF-IDF Score: 0.22934037812132071\n",
      "Term: founded, TF-IDF Score: 0.22934037812132071\n",
      "Term: feel, TF-IDF Score: 0.22934037812132071\n",
      "Term: make, TF-IDF Score: 0.22934037812132071\n",
      "Term: technology, TF-IDF Score: 0.1631775679084811\n",
      "Term: verge, TF-IDF Score: 0.45868075624264143\n",
      "Top Article Recommendations:\n",
      "1. Newsweek Newsweek provides in-depth analysis, news and opinion about international issues, technology, business, culture and politics.\n",
      "2. The Verge The Verge is about technology and how it makes us feel. Founded in 2011, we offer our audience everything from breaking news to reviews to award-winning features and investigations, on our site, in video, and in podcasts.\n"
     ]
    }
   ],
   "source": []
  },
  {
   "cell_type": "code",
   "execution_count": 39,
   "metadata": {},
   "outputs": [
    {
     "data": {
      "text/html": [
       "\n",
       "        <iframe\n",
       "            width=\"100%\"\n",
       "            height=\"650\"\n",
       "            src=\"http://127.0.0.1:8050/\"\n",
       "            frameborder=\"0\"\n",
       "            allowfullscreen\n",
       "            \n",
       "        ></iframe>\n",
       "        "
      ],
      "text/plain": [
       "<IPython.lib.display.IFrame at 0x141e19e80>"
      ]
     },
     "metadata": {},
     "output_type": "display_data"
    }
   ],
   "source": []
  },
  {
   "cell_type": "code",
   "execution_count": null,
   "metadata": {},
   "outputs": [],
   "source": []
  }
 ],
 "metadata": {
  "interpreter": {
   "hash": "409ae2dd8ca968794cc5c11e72114bb67068bed0b46db6444ca3880ccfc66cc6"
  },
  "kernelspec": {
   "display_name": "Python 3.7.11 ('generico')",
   "language": "python",
   "name": "python3"
  },
  "language_info": {
   "codemirror_mode": {
    "name": "ipython",
    "version": 3
   },
   "file_extension": ".py",
   "mimetype": "text/x-python",
   "name": "python",
   "nbconvert_exporter": "python",
   "pygments_lexer": "ipython3",
   "version": "3.9.16"
  },
  "orig_nbformat": 4
 },
 "nbformat": 4,
 "nbformat_minor": 2
}
