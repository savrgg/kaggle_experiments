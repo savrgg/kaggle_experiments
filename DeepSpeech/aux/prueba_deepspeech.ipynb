{
 "cells": [
  {
   "cell_type": "code",
   "execution_count": 18,
   "metadata": {},
   "outputs": [
    {
     "ename": "AttributeError",
     "evalue": "No librosa attribute output",
     "output_type": "error",
     "traceback": [
      "\u001b[0;31m---------------------------------------------------------------------------\u001b[0m",
      "\u001b[0;31mAttributeError\u001b[0m                            Traceback (most recent call last)",
      "\u001b[1;32m/Users/salvadorgarcia/Repos/kaggle_experiments/DeepSpeech/aux/test.ipynb Cell 1\u001b[0m in \u001b[0;36m<cell line: 28>\u001b[0;34m()\u001b[0m\n\u001b[1;32m     <a href='vscode-notebook-cell:/Users/salvadorgarcia/Repos/kaggle_experiments/DeepSpeech/aux/test.ipynb#W1sZmlsZQ%3D%3D?line=23'>24</a>\u001b[0m \u001b[39m# Verify the WAV file is valid and playable before transcribing\u001b[39;00m\n\u001b[1;32m     <a href='vscode-notebook-cell:/Users/salvadorgarcia/Repos/kaggle_experiments/DeepSpeech/aux/test.ipynb#W1sZmlsZQ%3D%3D?line=24'>25</a>\u001b[0m \n\u001b[1;32m     <a href='vscode-notebook-cell:/Users/salvadorgarcia/Repos/kaggle_experiments/DeepSpeech/aux/test.ipynb#W1sZmlsZQ%3D%3D?line=25'>26</a>\u001b[0m \u001b[39m# Resample the audio to 16 kHz if needed\u001b[39;00m\n\u001b[1;32m     <a href='vscode-notebook-cell:/Users/salvadorgarcia/Repos/kaggle_experiments/DeepSpeech/aux/test.ipynb#W1sZmlsZQ%3D%3D?line=26'>27</a>\u001b[0m audio, _ \u001b[39m=\u001b[39m librosa\u001b[39m.\u001b[39mload(output_file, sr\u001b[39m=\u001b[39m\u001b[39m16000\u001b[39m)\n\u001b[0;32m---> <a href='vscode-notebook-cell:/Users/salvadorgarcia/Repos/kaggle_experiments/DeepSpeech/aux/test.ipynb#W1sZmlsZQ%3D%3D?line=27'>28</a>\u001b[0m librosa\u001b[39m.\u001b[39;49moutput\u001b[39m.\u001b[39mwrite_wav(output_file, audio, sr\u001b[39m=\u001b[39m\u001b[39m16000\u001b[39m)\n\u001b[1;32m     <a href='vscode-notebook-cell:/Users/salvadorgarcia/Repos/kaggle_experiments/DeepSpeech/aux/test.ipynb#W1sZmlsZQ%3D%3D?line=29'>30</a>\u001b[0m transcribe_audio(output_file, model_path)\n",
      "File \u001b[0;32m/usr/local/Caskroom/miniconda/base/lib/python3.9/site-packages/lazy_loader/__init__.py:88\u001b[0m, in \u001b[0;36mattach.<locals>.__getattr__\u001b[0;34m(name)\u001b[0m\n\u001b[1;32m     86\u001b[0m     \u001b[39mreturn\u001b[39;00m attr\n\u001b[1;32m     87\u001b[0m \u001b[39melse\u001b[39;00m:\n\u001b[0;32m---> 88\u001b[0m     \u001b[39mraise\u001b[39;00m \u001b[39mAttributeError\u001b[39;00m(\u001b[39mf\u001b[39m\u001b[39m\"\u001b[39m\u001b[39mNo \u001b[39m\u001b[39m{\u001b[39;00mpackage_name\u001b[39m}\u001b[39;00m\u001b[39m attribute \u001b[39m\u001b[39m{\u001b[39;00mname\u001b[39m}\u001b[39;00m\u001b[39m\"\u001b[39m)\n",
      "\u001b[0;31mAttributeError\u001b[0m: No librosa attribute output"
     ]
    }
   ],
   "source": [
    "import deepspeech\n",
    "import wave\n",
    "import numpy as np\n",
    "from pydub import AudioSegment\n",
    "import librosa\n",
    "\n",
    "def transcribe_audio(audio_file, model_path):\n",
    "    model = deepspeech.Model(model_path)\n",
    "    fin = wave.open(audio_file, 'rb')\n",
    "    audio = np.frombuffer(fin.readframes(fin.getnframes()), np.float32)\n",
    "    transcript = model.stt(audio)\n",
    "    print('Transcript:', transcript)\n",
    "\n",
    "def convert_to_wav(input_file, output_file):\n",
    "    audio = AudioSegment.from_file(input_file, format='m4a')\n",
    "    audio.export(output_file, format='wav')\n",
    "\n",
    "input_file = 'input.m4a'\n",
    "output_file = 'output.wav'\n",
    "model_path = 'deepspeech-0.9.3-models.pbmm'\n",
    "\n",
    "convert_to_wav(input_file, output_file)\n",
    "\n",
    "# Verify the WAV file is valid and playable before transcribing\n",
    "\n",
    "# Resample the audio to 16 kHz if needed\n",
    "audio, _ = librosa.load(output_file, sr=16000)\n",
    "librosa.output.write_wav(output_file, audio, sr=16000)\n",
    "\n",
    "transcribe_audio(output_file, model_path)"
   ]
  },
  {
   "cell_type": "code",
   "execution_count": null,
   "metadata": {},
   "outputs": [],
   "source": [
    "def download_deepSpeech_model(model_version='0.9.3'):\n",
    "    # Specify the version of the DeepSpeech model to download\n",
    "    if model_version == '0.9.3':\n",
    "        model_url = 'https://github.com/mozilla/DeepSpeech/releases/download/v0.9.3/deepspeech-0.9.3-models.pbmm'\n",
    "    else:\n",
    "        raise ValueError(f\"Unsupported DeepSpeech model version: {model_version}\")\n",
    "\n",
    "    # Download the DeepSpeech model\n",
    "    print(f\"Downloading DeepSpeech {model_version} model...\")\n",
    "    wget.download(model_url, './')\n",
    "\n",
    "# download_deepSpeech_model('0.9.3')"
   ]
  }
 ],
 "metadata": {
  "kernelspec": {
   "display_name": "base",
   "language": "python",
   "name": "python3"
  },
  "language_info": {
   "codemirror_mode": {
    "name": "ipython",
    "version": 3
   },
   "file_extension": ".py",
   "mimetype": "text/x-python",
   "name": "python",
   "nbconvert_exporter": "python",
   "pygments_lexer": "ipython3",
   "version": "3.9.7"
  },
  "orig_nbformat": 4
 },
 "nbformat": 4,
 "nbformat_minor": 2
}
