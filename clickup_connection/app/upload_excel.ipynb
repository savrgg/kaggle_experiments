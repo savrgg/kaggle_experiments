{
 "cells": [
  {
   "cell_type": "code",
   "execution_count": 1,
   "metadata": {},
   "outputs": [],
   "source": [
    "from clickup_api import ClickUpAPI\n",
    "from exporter import Exporter\n",
    "\n",
    "config_file = 'config.json'\n",
    "excel_file = 'tasks2.xlsx'"
   ]
  },
  {
   "cell_type": "code",
   "execution_count": 3,
   "metadata": {},
   "outputs": [
    {
     "name": "stdout",
     "output_type": "stream",
     "text": [
      "Task 865cme8qa updated successfully.\n",
      "Task 865c93231 updated successfully.\n",
      "Task 865cmdebk updated successfully.\n",
      "Task 865cmdc6k updated successfully.\n",
      "Task 865ck66rb updated successfully.\n",
      "Task 865cmdpd3 updated successfully.\n"
     ]
    }
   ],
   "source": [
    "api = ClickUpAPI(config_file)\n",
    "api.update_tasks_from_excel(excel_file)"
   ]
  }
 ],
 "metadata": {
  "kernelspec": {
   "display_name": "base",
   "language": "python",
   "name": "python3"
  },
  "language_info": {
   "codemirror_mode": {
    "name": "ipython",
    "version": 3
   },
   "file_extension": ".py",
   "mimetype": "text/x-python",
   "name": "python",
   "nbconvert_exporter": "python",
   "pygments_lexer": "ipython3",
   "version": "3.9.12"
  },
  "orig_nbformat": 4
 },
 "nbformat": 4,
 "nbformat_minor": 2
}
