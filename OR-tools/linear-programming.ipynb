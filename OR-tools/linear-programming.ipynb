{
 "cells": [
  {
   "cell_type": "code",
   "execution_count": 1,
   "metadata": {},
   "outputs": [
    {
     "name": "stdout",
     "output_type": "stream",
     "text": [
      "Optimal cost: 520.0\n",
      "x[0,0] = 10.0\n",
      "x[0,1] = 0.0\n",
      "x[0,2] = 10.0\n",
      "x[1,0] = 0.0\n",
      "x[1,1] = 15.0\n",
      "x[1,2] = 15.0\n",
      "x[2,0] = 0.0\n",
      "x[2,1] = 0.0\n",
      "x[2,2] = 5.0\n"
     ]
    }
   ],
   "source": [
    "# Import the OR-Tools linear solver\n",
    "from ortools.linear_solver import pywraplp\n",
    "\n",
    "def main():\n",
    "    # Create the linear solver\n",
    "    solver = pywraplp.Solver.CreateSolver('SCIP')\n",
    "\n",
    "    if not solver:\n",
    "        return\n",
    "\n",
    "    # Define the cost matrix (transportation costs)\n",
    "    cost_matrix = [\n",
    "        [10, 20, 11],\n",
    "        [12, 7, 9],\n",
    "        [15, 13, 14]\n",
    "    ]\n",
    "\n",
    "    # Define supply and demand arrays\n",
    "    supply = [20, 30, 25]\n",
    "    demand = [10, 15, 30]\n",
    "\n",
    "    # Define variables for the transportation problem\n",
    "    num_factories = len(cost_matrix)\n",
    "    num_warehouses = len(cost_matrix[0])\n",
    "\n",
    "    x = {}\n",
    "    for i in range(num_factories):\n",
    "        for j in range(num_warehouses):\n",
    "            x[i, j] = solver.IntVar(0, solver.infinity(), f'x[{i},{j}]')\n",
    "\n",
    "    # Define the objective function to minimize transportation cost\n",
    "    solver.Minimize(solver.Sum(cost_matrix[i][j] * x[i, j] for i in range(num_factories) for j in range(num_warehouses)))\n",
    "\n",
    "    # Add supply constraints\n",
    "    for i in range(num_factories):\n",
    "        solver.Add(solver.Sum(x[i, j] for j in range(num_warehouses)) <= supply[i])\n",
    "\n",
    "    # Add demand constraints\n",
    "    for j in range(num_warehouses):\n",
    "        solver.Add(solver.Sum(x[i, j] for i in range(num_factories)) >= demand[j])\n",
    "\n",
    "    # Solve the LP problem\n",
    "    solver.Solve()\n",
    "\n",
    "    # Print the results\n",
    "    print('Optimal cost:', solver.Objective().Value())\n",
    "    for i in range(num_factories):\n",
    "        for j in range(num_warehouses):\n",
    "            print(f'x[{i},{j}] =', x[i, j].solution_value())\n",
    "\n",
    "if __name__ == \"__main__\":\n",
    "    main()\n",
    "\n"
   ]
  }
 ],
 "metadata": {
  "kernelspec": {
   "display_name": "Python 3",
   "language": "python",
   "name": "python3"
  },
  "language_info": {
   "codemirror_mode": {
    "name": "ipython",
    "version": 3
   },
   "file_extension": ".py",
   "mimetype": "text/x-python",
   "name": "python",
   "nbconvert_exporter": "python",
   "pygments_lexer": "ipython3",
   "version": "3.9.18"
  },
  "orig_nbformat": 4
 },
 "nbformat": 4,
 "nbformat_minor": 2
}
